{
 "cells": [
  {
   "cell_type": "code",
   "execution_count": 1,
   "metadata": {},
   "outputs": [],
   "source": [
    "# Importando bibliotecas necessárias\n",
    "\n",
    "import pandas as pd\n",
    "import matplotlib.pyplot as plt\n",
    "import numpy as np\n",
    "from scipy import stats as st"
   ]
  },
  {
   "cell_type": "code",
   "execution_count": 2,
   "metadata": {},
   "outputs": [],
   "source": [
    "# Importando os arquivos CSV\n",
    "\n",
    "trips_df = pd.read_csv('/datasets/project_sql_result_01.csv')\n",
    "location_df = pd.read_csv('/datasets/project_sql_result_04.csv')"
   ]
  },
  {
   "cell_type": "code",
   "execution_count": 3,
   "metadata": {},
   "outputs": [
    {
     "name": "stdout",
     "output_type": "stream",
     "text": [
      "<class 'pandas.core.frame.DataFrame'>\n",
      "RangeIndex: 64 entries, 0 to 63\n",
      "Data columns (total 2 columns):\n",
      " #   Column        Non-Null Count  Dtype \n",
      "---  ------        --------------  ----- \n",
      " 0   company_name  64 non-null     object\n",
      " 1   trips_amount  64 non-null     int64 \n",
      "dtypes: int64(1), object(1)\n",
      "memory usage: 1.1+ KB\n",
      "None\n",
      "<class 'pandas.core.frame.DataFrame'>\n",
      "RangeIndex: 94 entries, 0 to 93\n",
      "Data columns (total 2 columns):\n",
      " #   Column                 Non-Null Count  Dtype  \n",
      "---  ------                 --------------  -----  \n",
      " 0   dropoff_location_name  94 non-null     object \n",
      " 1   average_trips          94 non-null     float64\n",
      "dtypes: float64(1), object(1)\n",
      "memory usage: 1.6+ KB\n",
      "None\n"
     ]
    }
   ],
   "source": [
    "# Verificar se os tipos de dados estão corretos\n",
    "\n",
    "print(trips_df.info())\n",
    "print(location_df.info())"
   ]
  },
  {
   "cell_type": "code",
   "execution_count": 4,
   "metadata": {},
   "outputs": [
    {
     "name": "stdout",
     "output_type": "stream",
     "text": [
      "Trips:\n",
      "                      company_name  trips_amount\n",
      "0                        Flash Cab         19558\n",
      "1        Taxi Affiliation Services         11422\n",
      "2                Medallion Leasing         10367\n",
      "3                       Yellow Cab          9888\n",
      "4  Taxi Affiliation Service Yellow          9299\n",
      "\n",
      "Location:\n",
      "  dropoff_location_name  average_trips\n",
      "0                  Loop   10727.466667\n",
      "1           River North    9523.666667\n",
      "2         Streeterville    6664.666667\n",
      "3             West Loop    5163.666667\n",
      "4                O'Hare    2546.900000\n"
     ]
    }
   ],
   "source": [
    "# Imprimindo as primeiras linhas dos DFs\n",
    "\n",
    "print(\"Trips:\")\n",
    "print(trips_df.head())\n",
    "\n",
    "print(\"\")\n",
    "\n",
    "print(\"Location:\")\n",
    "print(location_df.head())"
   ]
  },
  {
   "cell_type": "markdown",
   "metadata": {},
   "source": [
    "**Análise dos tipos de dados:**\n",
    "\n",
    "Company name = Object OK (Texto)\n",
    "Trips amount = Inteiro OK (Número de viagens tem que ser inteiro, não tem como ser decimal)\n",
    "\n",
    "Drop off location name = Object OK (Texto)\n",
    "Average trips = Float OK (Como é uma média, vai acabar tendo casas decimais)"
   ]
  },
  {
   "cell_type": "code",
   "execution_count": 5,
   "metadata": {},
   "outputs": [
    {
     "data": {
      "text/html": [
       "<div>\n",
       "<style scoped>\n",
       "    .dataframe tbody tr th:only-of-type {\n",
       "        vertical-align: middle;\n",
       "    }\n",
       "\n",
       "    .dataframe tbody tr th {\n",
       "        vertical-align: top;\n",
       "    }\n",
       "\n",
       "    .dataframe thead th {\n",
       "        text-align: right;\n",
       "    }\n",
       "</style>\n",
       "<table border=\"1\" class=\"dataframe\">\n",
       "  <thead>\n",
       "    <tr style=\"text-align: right;\">\n",
       "      <th></th>\n",
       "      <th>dropoff_location_name</th>\n",
       "      <th>average_trips</th>\n",
       "    </tr>\n",
       "  </thead>\n",
       "  <tbody>\n",
       "    <tr>\n",
       "      <th>0</th>\n",
       "      <td>Loop</td>\n",
       "      <td>10727.5</td>\n",
       "    </tr>\n",
       "    <tr>\n",
       "      <th>1</th>\n",
       "      <td>River North</td>\n",
       "      <td>9523.7</td>\n",
       "    </tr>\n",
       "    <tr>\n",
       "      <th>2</th>\n",
       "      <td>Streeterville</td>\n",
       "      <td>6664.7</td>\n",
       "    </tr>\n",
       "    <tr>\n",
       "      <th>3</th>\n",
       "      <td>West Loop</td>\n",
       "      <td>5163.7</td>\n",
       "    </tr>\n",
       "    <tr>\n",
       "      <th>4</th>\n",
       "      <td>O'Hare</td>\n",
       "      <td>2546.9</td>\n",
       "    </tr>\n",
       "    <tr>\n",
       "      <th>5</th>\n",
       "      <td>Lake View</td>\n",
       "      <td>2421.0</td>\n",
       "    </tr>\n",
       "    <tr>\n",
       "      <th>6</th>\n",
       "      <td>Grant Park</td>\n",
       "      <td>2068.5</td>\n",
       "    </tr>\n",
       "    <tr>\n",
       "      <th>7</th>\n",
       "      <td>Museum Campus</td>\n",
       "      <td>1510.0</td>\n",
       "    </tr>\n",
       "    <tr>\n",
       "      <th>8</th>\n",
       "      <td>Gold Coast</td>\n",
       "      <td>1364.2</td>\n",
       "    </tr>\n",
       "    <tr>\n",
       "      <th>9</th>\n",
       "      <td>Sheffield &amp; DePaul</td>\n",
       "      <td>1259.8</td>\n",
       "    </tr>\n",
       "  </tbody>\n",
       "</table>\n",
       "</div>"
      ],
      "text/plain": [
       "  dropoff_location_name  average_trips\n",
       "0                  Loop        10727.5\n",
       "1           River North         9523.7\n",
       "2         Streeterville         6664.7\n",
       "3             West Loop         5163.7\n",
       "4                O'Hare         2546.9\n",
       "5             Lake View         2421.0\n",
       "6            Grant Park         2068.5\n",
       "7         Museum Campus         1510.0\n",
       "8            Gold Coast         1364.2\n",
       "9    Sheffield & DePaul         1259.8"
      ]
     },
     "execution_count": 5,
     "metadata": {},
     "output_type": "execute_result"
    }
   ],
   "source": [
    "# Identificar os 10 principais bairros em termos de destinos\n",
    "\n",
    "top_10_locations = location_df.nlargest(10, 'average_trips')\n",
    "\n",
    "top_10_locations['average_trips'] = top_10_locations['average_trips'].round(1) # Deixar só uma casa decimal\n",
    "\n",
    "top_10_locations"
   ]
  },
  {
   "cell_type": "code",
   "execution_count": 6,
   "metadata": {},
   "outputs": [
    {
     "data": {
      "image/png": "[encoded data removed]",
      "text/plain": [
       "<Figure size 640x480 with 1 Axes>"
      ]
     },
     "metadata": {},
     "output_type": "display_data"
    }
   ],
   "source": [
    "# Gráfico - empresas de táxi e número de corridas - Top 10, pois com todos nem dá para ler!\n",
    "\n",
    "# Selecionar as 20 principais empresas de táxi com base no número de corridas\n",
    "top_10_trips_df = trips_df.nlargest(10, 'trips_amount')\n",
    "\n",
    "top_10_trips_df.plot(kind='bar', x='company_name', y='trips_amount', title='Número de Corridas por Empresa de Táxi')\n",
    "\n",
    "# Rotacionar os nomes das companhias para melhor visualização\n",
    "plt.xticks(rotation=45, ha='right')\n",
    "\n",
    "plt.show()"
   ]
  },
  {
   "cell_type": "code",
   "execution_count": 7,
   "metadata": {},
   "outputs": [
    {
     "data": {
      "text/html": [
       "<div>\n",
       "<style scoped>\n",
       "    .dataframe tbody tr th:only-of-type {\n",
       "        vertical-align: middle;\n",
       "    }\n",
       "\n",
       "    .dataframe tbody tr th {\n",
       "        vertical-align: top;\n",
       "    }\n",
       "\n",
       "    .dataframe thead th {\n",
       "        text-align: right;\n",
       "    }\n",
       "</style>\n",
       "<table border=\"1\" class=\"dataframe\">\n",
       "  <thead>\n",
       "    <tr style=\"text-align: right;\">\n",
       "      <th></th>\n",
       "      <th>company_name</th>\n",
       "      <th>trips_amount</th>\n",
       "    </tr>\n",
       "  </thead>\n",
       "  <tbody>\n",
       "    <tr>\n",
       "      <th>0</th>\n",
       "      <td>Flash Cab</td>\n",
       "      <td>19558</td>\n",
       "    </tr>\n",
       "    <tr>\n",
       "      <th>1</th>\n",
       "      <td>Taxi Affiliation Services</td>\n",
       "      <td>11422</td>\n",
       "    </tr>\n",
       "    <tr>\n",
       "      <th>2</th>\n",
       "      <td>Medallion Leasing</td>\n",
       "      <td>10367</td>\n",
       "    </tr>\n",
       "    <tr>\n",
       "      <th>3</th>\n",
       "      <td>Yellow Cab</td>\n",
       "      <td>9888</td>\n",
       "    </tr>\n",
       "    <tr>\n",
       "      <th>4</th>\n",
       "      <td>Taxi Affiliation Service Yellow</td>\n",
       "      <td>9299</td>\n",
       "    </tr>\n",
       "    <tr>\n",
       "      <th>5</th>\n",
       "      <td>Chicago Carriage Cab Corp</td>\n",
       "      <td>9181</td>\n",
       "    </tr>\n",
       "    <tr>\n",
       "      <th>6</th>\n",
       "      <td>City Service</td>\n",
       "      <td>8448</td>\n",
       "    </tr>\n",
       "    <tr>\n",
       "      <th>7</th>\n",
       "      <td>Sun Taxi</td>\n",
       "      <td>7701</td>\n",
       "    </tr>\n",
       "    <tr>\n",
       "      <th>8</th>\n",
       "      <td>Star North Management LLC</td>\n",
       "      <td>7455</td>\n",
       "    </tr>\n",
       "    <tr>\n",
       "      <th>9</th>\n",
       "      <td>Blue Ribbon Taxi Association Inc.</td>\n",
       "      <td>5953</td>\n",
       "    </tr>\n",
       "  </tbody>\n",
       "</table>\n",
       "</div>"
      ],
      "text/plain": [
       "                        company_name  trips_amount\n",
       "0                          Flash Cab         19558\n",
       "1          Taxi Affiliation Services         11422\n",
       "2                  Medallion Leasing         10367\n",
       "3                         Yellow Cab          9888\n",
       "4    Taxi Affiliation Service Yellow          9299\n",
       "5          Chicago Carriage Cab Corp          9181\n",
       "6                       City Service          8448\n",
       "7                           Sun Taxi          7701\n",
       "8          Star North Management LLC          7455\n",
       "9  Blue Ribbon Taxi Association Inc.          5953"
      ]
     },
     "execution_count": 7,
     "metadata": {},
     "output_type": "execute_result"
    }
   ],
   "source": [
    "# Exibir a tabela simples com as informações\n",
    "\n",
    "top_10_trips_df[['company_name', 'trips_amount']]"
   ]
  },
  {
   "cell_type": "markdown",
   "metadata": {},
   "source": [
    "Conclusões:\n",
    "\n",
    "Flash Cab é a líder com quase 2x mais corridas que o segundo lugar, com 19.558, que é a Taxi Affiliation Services, com 11.422.\n",
    "Em 20º lugar, temos a Chicago Medallion Leasing INC com 1.607 corridas."
   ]
  },
  {
   "cell_type": "code",
   "execution_count": 8,
   "metadata": {},
   "outputs": [
    {
     "data": {
      "image/png": "[encoded data removed]",
      "text/plain": [
       "<Figure size 640x480 with 1 Axes>"
      ]
     },
     "metadata": {},
     "output_type": "display_data"
    }
   ],
   "source": [
    "# Gráfico - top 10 bairros por número de corridas em que esse bairro é destino\n",
    "\n",
    "top_10_locations.plot(kind='bar', x='dropoff_location_name', y='average_trips', title='Top 10 Bairros por Destinos de Corridas')\n",
    "plt.show()"
   ]
  },
  {
   "cell_type": "code",
   "execution_count": 9,
   "metadata": {},
   "outputs": [
    {
     "data": {
      "text/html": [
       "<div>\n",
       "<style scoped>\n",
       "    .dataframe tbody tr th:only-of-type {\n",
       "        vertical-align: middle;\n",
       "    }\n",
       "\n",
       "    .dataframe tbody tr th {\n",
       "        vertical-align: top;\n",
       "    }\n",
       "\n",
       "    .dataframe thead th {\n",
       "        text-align: right;\n",
       "    }\n",
       "</style>\n",
       "<table border=\"1\" class=\"dataframe\">\n",
       "  <thead>\n",
       "    <tr style=\"text-align: right;\">\n",
       "      <th></th>\n",
       "      <th>dropoff_location_name</th>\n",
       "      <th>average_trips</th>\n",
       "    </tr>\n",
       "  </thead>\n",
       "  <tbody>\n",
       "    <tr>\n",
       "      <th>0</th>\n",
       "      <td>Loop</td>\n",
       "      <td>10727.5</td>\n",
       "    </tr>\n",
       "    <tr>\n",
       "      <th>1</th>\n",
       "      <td>River North</td>\n",
       "      <td>9523.7</td>\n",
       "    </tr>\n",
       "    <tr>\n",
       "      <th>2</th>\n",
       "      <td>Streeterville</td>\n",
       "      <td>6664.7</td>\n",
       "    </tr>\n",
       "    <tr>\n",
       "      <th>3</th>\n",
       "      <td>West Loop</td>\n",
       "      <td>5163.7</td>\n",
       "    </tr>\n",
       "    <tr>\n",
       "      <th>4</th>\n",
       "      <td>O'Hare</td>\n",
       "      <td>2546.9</td>\n",
       "    </tr>\n",
       "    <tr>\n",
       "      <th>5</th>\n",
       "      <td>Lake View</td>\n",
       "      <td>2421.0</td>\n",
       "    </tr>\n",
       "    <tr>\n",
       "      <th>6</th>\n",
       "      <td>Grant Park</td>\n",
       "      <td>2068.5</td>\n",
       "    </tr>\n",
       "    <tr>\n",
       "      <th>7</th>\n",
       "      <td>Museum Campus</td>\n",
       "      <td>1510.0</td>\n",
       "    </tr>\n",
       "    <tr>\n",
       "      <th>8</th>\n",
       "      <td>Gold Coast</td>\n",
       "      <td>1364.2</td>\n",
       "    </tr>\n",
       "    <tr>\n",
       "      <th>9</th>\n",
       "      <td>Sheffield &amp; DePaul</td>\n",
       "      <td>1259.8</td>\n",
       "    </tr>\n",
       "  </tbody>\n",
       "</table>\n",
       "</div>"
      ],
      "text/plain": [
       "  dropoff_location_name  average_trips\n",
       "0                  Loop        10727.5\n",
       "1           River North         9523.7\n",
       "2         Streeterville         6664.7\n",
       "3             West Loop         5163.7\n",
       "4                O'Hare         2546.9\n",
       "5             Lake View         2421.0\n",
       "6            Grant Park         2068.5\n",
       "7         Museum Campus         1510.0\n",
       "8            Gold Coast         1364.2\n",
       "9    Sheffield & DePaul         1259.8"
      ]
     },
     "execution_count": 9,
     "metadata": {},
     "output_type": "execute_result"
    }
   ],
   "source": [
    "# Exibir a tabela simples com as informações\n",
    "\n",
    "top_10_locations[['dropoff_location_name', 'average_trips']]"
   ]
  },
  {
   "cell_type": "markdown",
   "metadata": {},
   "source": [
    "**Conclusões:**\n",
    "O bairro onde mais corridas terminam é o Loop, com uma média de 10727. E em 10°, é o bairro Sheffield & DePaul com uma média de aproximadamente 1260 corridas finalizadas."
   ]
  },
  {
   "cell_type": "markdown",
   "metadata": {},
   "source": [
    "Testando a hipótese: \n",
    "\"A duração média dos passeios do Loop para o Aeroporto Internacional O'Hare muda nos sábados chuvosos.\" \n",
    "\n",
    "Decida onde definir o nível de significância (alfa) por conta própria."
   ]
  },
  {
   "cell_type": "code",
   "execution_count": 10,
   "metadata": {},
   "outputs": [
    {
     "data": {
      "text/html": [
       "<div>\n",
       "<style scoped>\n",
       "    .dataframe tbody tr th:only-of-type {\n",
       "        vertical-align: middle;\n",
       "    }\n",
       "\n",
       "    .dataframe tbody tr th {\n",
       "        vertical-align: top;\n",
       "    }\n",
       "\n",
       "    .dataframe thead th {\n",
       "        text-align: right;\n",
       "    }\n",
       "</style>\n",
       "<table border=\"1\" class=\"dataframe\">\n",
       "  <thead>\n",
       "    <tr style=\"text-align: right;\">\n",
       "      <th></th>\n",
       "      <th>start_ts</th>\n",
       "      <th>weather_conditions</th>\n",
       "      <th>duration_seconds</th>\n",
       "    </tr>\n",
       "  </thead>\n",
       "  <tbody>\n",
       "    <tr>\n",
       "      <th>0</th>\n",
       "      <td>2017-11-25 16:00:00</td>\n",
       "      <td>Good</td>\n",
       "      <td>2410.0</td>\n",
       "    </tr>\n",
       "    <tr>\n",
       "      <th>1</th>\n",
       "      <td>2017-11-25 14:00:00</td>\n",
       "      <td>Good</td>\n",
       "      <td>1920.0</td>\n",
       "    </tr>\n",
       "    <tr>\n",
       "      <th>2</th>\n",
       "      <td>2017-11-25 12:00:00</td>\n",
       "      <td>Good</td>\n",
       "      <td>1543.0</td>\n",
       "    </tr>\n",
       "    <tr>\n",
       "      <th>3</th>\n",
       "      <td>2017-11-04 10:00:00</td>\n",
       "      <td>Good</td>\n",
       "      <td>2512.0</td>\n",
       "    </tr>\n",
       "    <tr>\n",
       "      <th>4</th>\n",
       "      <td>2017-11-11 07:00:00</td>\n",
       "      <td>Good</td>\n",
       "      <td>1440.0</td>\n",
       "    </tr>\n",
       "  </tbody>\n",
       "</table>\n",
       "</div>"
      ],
      "text/plain": [
       "              start_ts weather_conditions  duration_seconds\n",
       "0  2017-11-25 16:00:00               Good            2410.0\n",
       "1  2017-11-25 14:00:00               Good            1920.0\n",
       "2  2017-11-25 12:00:00               Good            1543.0\n",
       "3  2017-11-04 10:00:00               Good            2512.0\n",
       "4  2017-11-11 07:00:00               Good            1440.0"
      ]
     },
     "execution_count": 10,
     "metadata": {},
     "output_type": "execute_result"
    }
   ],
   "source": [
    "# Importando o arquivo CSV\n",
    "trips_loop_ohare = pd.read_csv('/datasets/project_sql_result_07.csv')\n",
    "\n",
    "# Imprimindo as primeiras linhas do DF\n",
    "trips_loop_ohare.head()"
   ]
  },
  {
   "cell_type": "code",
   "execution_count": 11,
   "metadata": {},
   "outputs": [
    {
     "data": {
      "text/plain": [
       "Good    888\n",
       "Bad     180\n",
       "Name: weather_conditions, dtype: int64"
      ]
     },
     "execution_count": 11,
     "metadata": {},
     "output_type": "execute_result"
    }
   ],
   "source": [
    "# Analisando a quantidade de corridas em dias com o tempo bom ou ruim:\n",
    "trips_loop_ohare['weather_conditions'].value_counts()"
   ]
  },
  {
   "cell_type": "code",
   "execution_count": 12,
   "metadata": {},
   "outputs": [
    {
     "name": "stdout",
     "output_type": "stream",
     "text": [
      "<class 'pandas.core.frame.DataFrame'>\n",
      "RangeIndex: 1068 entries, 0 to 1067\n",
      "Data columns (total 3 columns):\n",
      " #   Column              Non-Null Count  Dtype  \n",
      "---  ------              --------------  -----  \n",
      " 0   start_ts            1068 non-null   object \n",
      " 1   weather_conditions  1068 non-null   object \n",
      " 2   duration_seconds    1068 non-null   float64\n",
      "dtypes: float64(1), object(2)\n",
      "memory usage: 25.2+ KB\n",
      "None\n"
     ]
    }
   ],
   "source": [
    "# Verificar se os tipos de dados estão corretos\n",
    "\n",
    "print(trips_loop_ohare.info())"
   ]
  },
  {
   "cell_type": "code",
   "execution_count": 13,
   "metadata": {},
   "outputs": [
    {
     "data": {
      "text/plain": [
       "(517403.56330246915, 575732.9308497686)"
      ]
     },
     "execution_count": 13,
     "metadata": {},
     "output_type": "execute_result"
    }
   ],
   "source": [
    "# Analisando dias bons e ruins:\n",
    "\n",
    "bad_weather = trips_loop_ohare.query('weather_conditions == \"Bad\"')['duration_seconds'].reset_index()\n",
    "good_weather = trips_loop_ohare.query('weather_conditions == \"Good\"')['duration_seconds'].reset_index()\n",
    "\n",
    "np.var(bad_weather['duration_seconds']), np.var(good_weather['duration_seconds'])"
   ]
  },
  {
   "cell_type": "code",
   "execution_count": 14,
   "metadata": {},
   "outputs": [
    {
     "name": "stdout",
     "output_type": "stream",
     "text": [
      "Teste estatístico t: 6.946177714041499\n",
      "Valor p: 6.517970327099473e-12\n",
      "Rejeita a hipótese nula (H0). As durações médias são diferentes.\n"
     ]
    }
   ],
   "source": [
    "# Fazendo o teste de hipótese:\n",
    "\n",
    "t_statistic, p_value = st.ttest_ind(bad_weather['duration_seconds'], good_weather['duration_seconds'], equal_var = True)\n",
    "\n",
    "alpha = 0.05 # Utilizei o nível de significância (alfa) como 0,05 que é o que geralmente utilizamos\n",
    "\n",
    "print(f\"Teste estatístico t: {t_statistic}\")\n",
    "print(f\"Valor p: {p_value}\")\n",
    "\n",
    "if p_value < alpha:\n",
    "    print(\"Rejeita a hipótese nula (H0). As durações médias são diferentes.\")\n",
    "else:\n",
    "    print(\"Não rejeita a hipótese nula (H0). As durações médias não são diferentes.\")     "
   ]
  },
  {
   "cell_type": "markdown",
   "metadata": {},
   "source": [
    "**Conclusão:**\n",
    "A duração média dos passeios do Loop para o Aeroporto Internacional O'Hare varia em dias chuvosos."
   ]
  },
  {
   "cell_type": "markdown",
   "metadata": {},
   "source": [
    "**Conclusões gerais:**\n",
    "\n",
    "A empresa de taxi Flash Cab lidera o mercado em Chicago. \n",
    "Os bairros Loops e River North são os destinos mais populares.\n",
    "As análises mostraram que a duração das corridas do Loop para o Aeroporto O'Hare varia significativamente entre dias \"bons\" e \"ruins\". Em condições climáticas adversas, como chuvas, as corridas tendem a ser mais longas e menos previsíveis devido a fatores como congestionamento e visibilidade reduzida."
   ]
  }
 ],
 "metadata": {
  "ExecuteTimeLog": [
   {
    "duration": 321,
    "start_time": "2024-10-16T23:50:01.512Z"
   },
   {
    "duration": 12,
    "start_time": "2024-10-16T23:50:11.463Z"
   },
   {
    "duration": 9,
    "start_time": "2024-10-16T23:51:09.276Z"
   },
   {
    "duration": 5,
    "start_time": "2024-10-16T23:51:11.278Z"
   },
   {
    "duration": 183,
    "start_time": "2024-10-16T23:53:10.223Z"
   },
   {
    "duration": 8,
    "start_time": "2024-10-16T23:53:13.808Z"
   },
   {
    "duration": 7,
    "start_time": "2024-10-16T23:53:15.182Z"
   },
   {
    "duration": 2178,
    "start_time": "2024-10-17T15:01:45.600Z"
   },
   {
    "duration": 14,
    "start_time": "2024-10-17T15:01:47.780Z"
   },
   {
    "duration": 7,
    "start_time": "2024-10-17T15:01:48.329Z"
   },
   {
    "duration": 13,
    "start_time": "2024-10-17T15:03:30.920Z"
   },
   {
    "duration": 7,
    "start_time": "2024-10-17T15:08:12.467Z"
   },
   {
    "duration": 7,
    "start_time": "2024-10-17T15:08:27.011Z"
   },
   {
    "duration": 6,
    "start_time": "2024-10-17T15:09:30.884Z"
   },
   {
    "duration": 550,
    "start_time": "2024-10-17T15:09:46.990Z"
   },
   {
    "duration": 40,
    "start_time": "2024-10-17T15:09:47.545Z"
   },
   {
    "duration": 6,
    "start_time": "2024-10-17T15:09:47.587Z"
   },
   {
    "duration": 32,
    "start_time": "2024-10-17T15:09:47.595Z"
   },
   {
    "duration": 9,
    "start_time": "2024-10-17T15:09:47.631Z"
   },
   {
    "duration": 3,
    "start_time": "2024-10-17T15:09:47.642Z"
   },
   {
    "duration": 4,
    "start_time": "2024-10-17T15:09:47.647Z"
   },
   {
    "duration": 1050,
    "start_time": "2024-10-17T16:00:07.596Z"
   },
   {
    "duration": 138,
    "start_time": "2024-10-17T16:00:34.579Z"
   },
   {
    "duration": 1002,
    "start_time": "2024-10-17T16:01:27.957Z"
   },
   {
    "duration": 939,
    "start_time": "2024-10-17T16:01:38.208Z"
   },
   {
    "duration": 1003,
    "start_time": "2024-10-17T16:02:45.259Z"
   },
   {
    "duration": 1062,
    "start_time": "2024-10-17T16:02:56.261Z"
   },
   {
    "duration": 995,
    "start_time": "2024-10-17T16:03:11.155Z"
   },
   {
    "duration": 993,
    "start_time": "2024-10-17T16:03:34.722Z"
   },
   {
    "duration": 1194,
    "start_time": "2024-10-17T16:04:33.718Z"
   },
   {
    "duration": 1206,
    "start_time": "2024-10-17T16:04:46.396Z"
   },
   {
    "duration": 1141,
    "start_time": "2024-10-17T16:04:58.692Z"
   },
   {
    "duration": 1224,
    "start_time": "2024-10-17T16:05:07.738Z"
   },
   {
    "duration": 1152,
    "start_time": "2024-10-17T16:05:18.715Z"
   },
   {
    "duration": 1176,
    "start_time": "2024-10-17T16:05:33.644Z"
   },
   {
    "duration": 248,
    "start_time": "2024-10-17T16:07:43.648Z"
   },
   {
    "duration": 217,
    "start_time": "2024-10-17T16:08:13.165Z"
   },
   {
    "duration": 5,
    "start_time": "2024-10-17T16:22:20.554Z"
   },
   {
    "duration": 5,
    "start_time": "2024-10-17T16:24:37.049Z"
   },
   {
    "duration": 412,
    "start_time": "2024-10-17T16:27:30.274Z"
   },
   {
    "duration": 43,
    "start_time": "2024-10-17T16:27:30.688Z"
   },
   {
    "duration": 7,
    "start_time": "2024-10-17T16:27:30.732Z"
   },
   {
    "duration": 12,
    "start_time": "2024-10-17T16:27:30.742Z"
   },
   {
    "duration": 6,
    "start_time": "2024-10-17T16:27:30.757Z"
   },
   {
    "duration": 1044,
    "start_time": "2024-10-17T16:27:30.765Z"
   },
   {
    "duration": 181,
    "start_time": "2024-10-17T16:27:31.811Z"
   },
   {
    "duration": 5,
    "start_time": "2024-10-17T16:27:31.994Z"
   },
   {
    "duration": 150,
    "start_time": "2024-10-17T16:27:32.001Z"
   },
   {
    "duration": 5,
    "start_time": "2024-10-17T16:27:32.153Z"
   },
   {
    "duration": 2,
    "start_time": "2024-10-17T16:27:32.160Z"
   },
   {
    "duration": 4,
    "start_time": "2024-10-17T16:27:32.164Z"
   },
   {
    "duration": 3,
    "start_time": "2024-10-17T16:27:32.169Z"
   },
   {
    "duration": 3,
    "start_time": "2024-10-17T16:27:32.174Z"
   },
   {
    "duration": 12,
    "start_time": "2024-10-17T16:35:52.769Z"
   },
   {
    "duration": 13,
    "start_time": "2024-10-17T16:39:06.659Z"
   },
   {
    "duration": 13,
    "start_time": "2024-10-17T16:39:19.960Z"
   },
   {
    "duration": 14,
    "start_time": "2024-10-17T16:40:04.615Z"
   },
   {
    "duration": 13,
    "start_time": "2024-10-17T16:40:15.176Z"
   },
   {
    "duration": 8,
    "start_time": "2024-10-17T16:40:50.345Z"
   },
   {
    "duration": 8,
    "start_time": "2024-10-17T16:41:33.001Z"
   },
   {
    "duration": 7,
    "start_time": "2024-10-17T16:42:23.021Z"
   },
   {
    "duration": 8,
    "start_time": "2024-10-17T16:42:41.759Z"
   },
   {
    "duration": 10,
    "start_time": "2024-10-17T16:42:51.801Z"
   },
   {
    "duration": 7,
    "start_time": "2024-10-17T16:43:04.079Z"
   },
   {
    "duration": 8,
    "start_time": "2024-10-17T16:43:23.401Z"
   },
   {
    "duration": 458,
    "start_time": "2024-10-17T16:43:34.627Z"
   },
   {
    "duration": 47,
    "start_time": "2024-10-17T16:43:35.087Z"
   },
   {
    "duration": 14,
    "start_time": "2024-10-17T16:43:35.136Z"
   },
   {
    "duration": 7,
    "start_time": "2024-10-17T16:43:35.152Z"
   },
   {
    "duration": 11,
    "start_time": "2024-10-17T16:43:35.162Z"
   },
   {
    "duration": 1346,
    "start_time": "2024-10-17T16:43:35.175Z"
   },
   {
    "duration": 237,
    "start_time": "2024-10-17T16:43:36.523Z"
   },
   {
    "duration": 9,
    "start_time": "2024-10-17T16:43:36.762Z"
   },
   {
    "duration": 146,
    "start_time": "2024-10-17T16:43:36.773Z"
   },
   {
    "duration": 7,
    "start_time": "2024-10-17T16:43:36.921Z"
   },
   {
    "duration": 10,
    "start_time": "2024-10-17T16:43:36.930Z"
   },
   {
    "duration": 13,
    "start_time": "2024-10-17T16:43:36.941Z"
   },
   {
    "duration": 3,
    "start_time": "2024-10-17T16:43:36.956Z"
   },
   {
    "duration": 0,
    "start_time": "2024-10-17T16:43:36.960Z"
   },
   {
    "duration": 12,
    "start_time": "2024-10-17T16:44:46.489Z"
   },
   {
    "duration": 4,
    "start_time": "2024-10-17T16:44:54.598Z"
   },
   {
    "duration": 433,
    "start_time": "2024-10-17T16:45:03.386Z"
   },
   {
    "duration": 5,
    "start_time": "2024-10-17T16:47:03.009Z"
   },
   {
    "duration": 8,
    "start_time": "2024-10-17T16:48:59.006Z"
   },
   {
    "duration": 12,
    "start_time": "2024-10-17T16:49:08.154Z"
   },
   {
    "duration": 7,
    "start_time": "2024-10-17T16:49:25.394Z"
   },
   {
    "duration": 10,
    "start_time": "2024-10-17T16:52:09.149Z"
   },
   {
    "duration": 441,
    "start_time": "2024-10-17T16:52:24.807Z"
   },
   {
    "duration": 64,
    "start_time": "2024-10-17T16:52:25.252Z"
   },
   {
    "duration": 18,
    "start_time": "2024-10-17T16:52:25.317Z"
   },
   {
    "duration": 9,
    "start_time": "2024-10-17T16:52:25.336Z"
   },
   {
    "duration": 11,
    "start_time": "2024-10-17T16:52:25.348Z"
   },
   {
    "duration": 1088,
    "start_time": "2024-10-17T16:52:25.361Z"
   },
   {
    "duration": 183,
    "start_time": "2024-10-17T16:52:26.451Z"
   },
   {
    "duration": 8,
    "start_time": "2024-10-17T16:52:26.636Z"
   },
   {
    "duration": 157,
    "start_time": "2024-10-17T16:52:26.645Z"
   },
   {
    "duration": 11,
    "start_time": "2024-10-17T16:52:26.804Z"
   },
   {
    "duration": 11,
    "start_time": "2024-10-17T16:52:26.817Z"
   },
   {
    "duration": 6,
    "start_time": "2024-10-17T16:52:26.830Z"
   },
   {
    "duration": 5,
    "start_time": "2024-10-17T16:52:26.838Z"
   },
   {
    "duration": 691,
    "start_time": "2024-10-17T16:52:26.847Z"
   },
   {
    "duration": 0,
    "start_time": "2024-10-17T16:52:27.540Z"
   },
   {
    "duration": 0,
    "start_time": "2024-10-17T16:52:27.541Z"
   },
   {
    "duration": 5,
    "start_time": "2024-10-17T16:53:01.379Z"
   },
   {
    "duration": 11,
    "start_time": "2024-10-17T16:53:07.355Z"
   },
   {
    "duration": 15,
    "start_time": "2024-10-17T16:54:09.003Z"
   },
   {
    "duration": 4,
    "start_time": "2024-10-17T16:55:05.548Z"
   },
   {
    "duration": 6,
    "start_time": "2024-10-17T16:55:18.773Z"
   },
   {
    "duration": 6,
    "start_time": "2024-10-17T16:56:08.092Z"
   },
   {
    "duration": 7,
    "start_time": "2024-10-17T16:56:44.726Z"
   },
   {
    "duration": 6,
    "start_time": "2024-10-17T16:57:16.944Z"
   },
   {
    "duration": 12,
    "start_time": "2024-10-17T16:57:56.216Z"
   },
   {
    "duration": 11,
    "start_time": "2024-10-17T16:58:12.542Z"
   },
   {
    "duration": 6,
    "start_time": "2024-10-17T16:59:21.373Z"
   },
   {
    "duration": 6,
    "start_time": "2024-10-17T16:59:28.725Z"
   },
   {
    "duration": 19,
    "start_time": "2024-10-17T17:00:14.361Z"
   },
   {
    "duration": 7,
    "start_time": "2024-10-17T17:02:54.098Z"
   },
   {
    "duration": 436,
    "start_time": "2024-10-17T17:03:09.895Z"
   },
   {
    "duration": 51,
    "start_time": "2024-10-17T17:03:10.334Z"
   },
   {
    "duration": 14,
    "start_time": "2024-10-17T17:03:10.387Z"
   },
   {
    "duration": 7,
    "start_time": "2024-10-17T17:03:10.409Z"
   },
   {
    "duration": 9,
    "start_time": "2024-10-17T17:03:10.420Z"
   },
   {
    "duration": 1031,
    "start_time": "2024-10-17T17:03:10.431Z"
   },
   {
    "duration": 157,
    "start_time": "2024-10-17T17:03:11.463Z"
   },
   {
    "duration": 7,
    "start_time": "2024-10-17T17:03:11.621Z"
   },
   {
    "duration": 150,
    "start_time": "2024-10-17T17:03:11.630Z"
   },
   {
    "duration": 7,
    "start_time": "2024-10-17T17:03:11.782Z"
   },
   {
    "duration": 21,
    "start_time": "2024-10-17T17:03:11.792Z"
   },
   {
    "duration": 8,
    "start_time": "2024-10-17T17:03:11.814Z"
   },
   {
    "duration": 9,
    "start_time": "2024-10-17T17:03:11.824Z"
   },
   {
    "duration": 5,
    "start_time": "2024-10-17T17:03:11.837Z"
   },
   {
    "duration": 5,
    "start_time": "2024-10-17T17:03:11.844Z"
   },
   {
    "duration": 608,
    "start_time": "2024-10-17T17:03:11.851Z"
   },
   {
    "duration": 0,
    "start_time": "2024-10-17T17:03:12.461Z"
   },
   {
    "duration": 0,
    "start_time": "2024-10-17T17:03:12.462Z"
   },
   {
    "duration": 11,
    "start_time": "2024-10-17T17:04:11.924Z"
   },
   {
    "duration": 7,
    "start_time": "2024-10-17T17:04:51.798Z"
   },
   {
    "duration": 7,
    "start_time": "2024-10-17T17:06:28.845Z"
   },
   {
    "duration": 310,
    "start_time": "2024-10-17T17:07:28.385Z"
   },
   {
    "duration": 8,
    "start_time": "2024-10-17T17:08:36.318Z"
   },
   {
    "duration": 13,
    "start_time": "2024-10-17T17:08:58.332Z"
   },
   {
    "duration": 6,
    "start_time": "2024-10-17T17:09:07.948Z"
   },
   {
    "duration": 461,
    "start_time": "2024-10-17T17:14:33.935Z"
   },
   {
    "duration": 49,
    "start_time": "2024-10-17T17:14:34.398Z"
   },
   {
    "duration": 13,
    "start_time": "2024-10-17T17:14:34.449Z"
   },
   {
    "duration": 6,
    "start_time": "2024-10-17T17:14:34.464Z"
   },
   {
    "duration": 10,
    "start_time": "2024-10-17T17:14:34.473Z"
   },
   {
    "duration": 1064,
    "start_time": "2024-10-17T17:14:34.485Z"
   },
   {
    "duration": 158,
    "start_time": "2024-10-17T17:14:35.551Z"
   },
   {
    "duration": 7,
    "start_time": "2024-10-17T17:14:35.711Z"
   },
   {
    "duration": 149,
    "start_time": "2024-10-17T17:14:35.720Z"
   },
   {
    "duration": 8,
    "start_time": "2024-10-17T17:14:35.870Z"
   },
   {
    "duration": 10,
    "start_time": "2024-10-17T17:14:35.879Z"
   },
   {
    "duration": 22,
    "start_time": "2024-10-17T17:14:35.891Z"
   },
   {
    "duration": 10,
    "start_time": "2024-10-17T17:14:35.915Z"
   },
   {
    "duration": 4,
    "start_time": "2024-10-17T17:14:35.927Z"
   },
   {
    "duration": 3,
    "start_time": "2024-10-17T17:14:35.934Z"
   },
   {
    "duration": 0,
    "start_time": "2024-10-17T17:14:35.939Z"
   },
   {
    "duration": 15,
    "start_time": "2024-10-17T17:20:01.989Z"
   },
   {
    "duration": 188,
    "start_time": "2024-10-17T17:20:09.246Z"
   },
   {
    "duration": 757,
    "start_time": "2024-10-17T17:20:52.972Z"
   },
   {
    "duration": 9,
    "start_time": "2024-10-17T17:20:53.732Z"
   },
   {
    "duration": 13,
    "start_time": "2024-10-17T17:20:53.742Z"
   },
   {
    "duration": 6,
    "start_time": "2024-10-17T17:20:53.757Z"
   },
   {
    "duration": 9,
    "start_time": "2024-10-17T17:20:53.766Z"
   },
   {
    "duration": 1061,
    "start_time": "2024-10-17T17:20:53.777Z"
   },
   {
    "duration": 153,
    "start_time": "2024-10-17T17:20:54.839Z"
   },
   {
    "duration": 8,
    "start_time": "2024-10-17T17:20:54.994Z"
   },
   {
    "duration": 152,
    "start_time": "2024-10-17T17:20:55.010Z"
   },
   {
    "duration": 7,
    "start_time": "2024-10-17T17:20:55.164Z"
   },
   {
    "duration": 10,
    "start_time": "2024-10-17T17:20:55.173Z"
   },
   {
    "duration": 25,
    "start_time": "2024-10-17T17:20:55.184Z"
   },
   {
    "duration": 8,
    "start_time": "2024-10-17T17:20:55.210Z"
   },
   {
    "duration": 8,
    "start_time": "2024-10-17T17:20:55.221Z"
   },
   {
    "duration": 5,
    "start_time": "2024-10-17T17:20:55.230Z"
   },
   {
    "duration": 3,
    "start_time": "2024-10-17T17:20:55.237Z"
   },
   {
    "duration": 0,
    "start_time": "2024-10-17T17:20:55.242Z"
   },
   {
    "duration": 260,
    "start_time": "2024-10-17T17:21:53.591Z"
   },
   {
    "duration": 8,
    "start_time": "2024-10-17T17:21:57.451Z"
   },
   {
    "duration": 4,
    "start_time": "2024-10-17T17:21:57.869Z"
   },
   {
    "duration": 9,
    "start_time": "2024-10-17T17:22:05.163Z"
   },
   {
    "duration": 5,
    "start_time": "2024-10-17T17:23:15.419Z"
   },
   {
    "duration": 5,
    "start_time": "2024-10-17T17:25:15.951Z"
   },
   {
    "duration": 20,
    "start_time": "2024-10-17T17:25:28.236Z"
   },
   {
    "duration": 5,
    "start_time": "2024-10-17T17:26:08.626Z"
   },
   {
    "duration": 5,
    "start_time": "2024-10-17T17:26:21.977Z"
   },
   {
    "duration": 7,
    "start_time": "2024-10-17T17:28:17.229Z"
   },
   {
    "duration": 5,
    "start_time": "2024-10-17T17:29:32.938Z"
   },
   {
    "duration": 5,
    "start_time": "2024-10-17T17:33:52.842Z"
   },
   {
    "duration": 763,
    "start_time": "2024-10-17T17:41:39.278Z"
   },
   {
    "duration": 9,
    "start_time": "2024-10-17T17:41:40.044Z"
   },
   {
    "duration": 13,
    "start_time": "2024-10-17T17:41:40.055Z"
   },
   {
    "duration": 7,
    "start_time": "2024-10-17T17:41:40.069Z"
   },
   {
    "duration": 30,
    "start_time": "2024-10-17T17:41:40.080Z"
   },
   {
    "duration": 1053,
    "start_time": "2024-10-17T17:41:40.112Z"
   },
   {
    "duration": 161,
    "start_time": "2024-10-17T17:41:41.168Z"
   },
   {
    "duration": 7,
    "start_time": "2024-10-17T17:41:41.331Z"
   },
   {
    "duration": 147,
    "start_time": "2024-10-17T17:41:41.341Z"
   },
   {
    "duration": 7,
    "start_time": "2024-10-17T17:41:41.490Z"
   },
   {
    "duration": 18,
    "start_time": "2024-10-17T17:41:41.499Z"
   },
   {
    "duration": 4,
    "start_time": "2024-10-17T17:41:41.519Z"
   },
   {
    "duration": 9,
    "start_time": "2024-10-17T17:41:41.525Z"
   },
   {
    "duration": 9,
    "start_time": "2024-10-17T17:41:41.537Z"
   },
   {
    "duration": 4,
    "start_time": "2024-10-17T17:41:41.548Z"
   },
   {
    "duration": 416,
    "start_time": "2024-10-17T17:42:52.566Z"
   },
   {
    "duration": 47,
    "start_time": "2024-10-17T17:42:52.984Z"
   },
   {
    "duration": 13,
    "start_time": "2024-10-17T17:42:53.033Z"
   },
   {
    "duration": 7,
    "start_time": "2024-10-17T17:42:53.048Z"
   },
   {
    "duration": 10,
    "start_time": "2024-10-17T17:42:53.058Z"
   },
   {
    "duration": 219,
    "start_time": "2024-10-17T17:42:53.070Z"
   },
   {
    "duration": 6,
    "start_time": "2024-10-17T17:42:53.292Z"
   },
   {
    "duration": 139,
    "start_time": "2024-10-17T17:42:53.300Z"
   },
   {
    "duration": 7,
    "start_time": "2024-10-17T17:42:53.441Z"
   },
   {
    "duration": 9,
    "start_time": "2024-10-17T17:42:53.450Z"
   },
   {
    "duration": 6,
    "start_time": "2024-10-17T17:42:53.461Z"
   },
   {
    "duration": 7,
    "start_time": "2024-10-17T17:42:53.468Z"
   },
   {
    "duration": 38,
    "start_time": "2024-10-17T17:42:53.477Z"
   },
   {
    "duration": 201,
    "start_time": "2024-10-17T17:42:53.518Z"
   },
   {
    "duration": 815,
    "start_time": "2024-10-17T17:43:04.332Z"
   },
   {
    "duration": 8,
    "start_time": "2024-10-17T17:43:05.150Z"
   },
   {
    "duration": 15,
    "start_time": "2024-10-17T17:43:05.159Z"
   },
   {
    "duration": 6,
    "start_time": "2024-10-17T17:43:05.176Z"
   },
   {
    "duration": 26,
    "start_time": "2024-10-17T17:43:05.185Z"
   },
   {
    "duration": 210,
    "start_time": "2024-10-17T17:43:05.212Z"
   },
   {
    "duration": 9,
    "start_time": "2024-10-17T17:43:05.424Z"
   },
   {
    "duration": 143,
    "start_time": "2024-10-17T17:43:05.435Z"
   },
   {
    "duration": 7,
    "start_time": "2024-10-17T17:43:05.580Z"
   },
   {
    "duration": 28,
    "start_time": "2024-10-17T17:43:05.589Z"
   },
   {
    "duration": 4,
    "start_time": "2024-10-17T17:43:05.619Z"
   },
   {
    "duration": 8,
    "start_time": "2024-10-17T17:43:05.625Z"
   },
   {
    "duration": 9,
    "start_time": "2024-10-17T17:43:05.634Z"
   },
   {
    "duration": 5,
    "start_time": "2024-10-17T17:43:05.645Z"
   }
  ],
  "kernelspec": {
   "display_name": "Python 3 (ipykernel)",
   "language": "python",
   "name": "python3"
  },
  "language_info": {
   "codemirror_mode": {
    "name": "ipython",
    "version": 3
   },
   "file_extension": ".py",
   "mimetype": "text/x-python",
   "name": "python",
   "nbconvert_exporter": "python",
   "pygments_lexer": "ipython3",
   "version": "3.9.19"
  },
  "toc": {
   "base_numbering": 1,
   "nav_menu": {},
   "number_sections": true,
   "sideBar": true,
   "skip_h1_title": true,
   "title_cell": "Table of Contents",
   "title_sidebar": "Contents",
   "toc_cell": false,
   "toc_position": {},
   "toc_section_display": true,
   "toc_window_display": false
  }
 },
 "nbformat": 4,
 "nbformat_minor": 2
}
